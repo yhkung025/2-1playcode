{
 "cells": [
  {
   "cell_type": "markdown",
   "id": "0832ac1e-d920-45c2-8898-fd1b96131568",
   "metadata": {},
   "source": [
    "pip install openai faiss-cpu sentence-transformers"
   ]
  },
  {
   "cell_type": "code",
   "execution_count": 10,
   "id": "3b47c4dd",
   "metadata": {},
   "outputs": [
    {
     "name": "stdout",
     "output_type": "stream",
     "text": [
      "歡迎使用 AI 智慧客服，輸入問題來試試看（輸入 q 離開）\n"
     ]
    },
    {
     "name": "stdout",
     "output_type": "stream",
     "text": [
      "\n",
      "請輸入問題： 狗可以吃嗎\n"
     ]
    },
    {
     "name": "stdout",
     "output_type": "stream",
     "text": [
      "🔍 檢索到的資料： Q: 狗狗可以吃嗎？ A: 可以的，我們的商品使用天然食材製成，無調味、無添加、無防腐劑，狗狗也適合食用。\n",
      "Q: 人可以吃嗎？ A: 雖然原料為人食等級，但因為無調味，還是建議給寵物吃喔～\n",
      "\n",
      "AI 回答： 可以的，狗狗可以吃這個商品，因為它是使用天然食材製成，無添加劑，無防腐劑，適合狗狗食用。\n"
     ]
    },
    {
     "name": "stdout",
     "output_type": "stream",
     "text": [
      "\n",
      "請輸入問題： 如何退貨\n"
     ]
    },
    {
     "name": "stdout",
     "output_type": "stream",
     "text": [
      "🔍 檢索到的資料： Q: 我收到的商品有瑕疵／有少寄，或想退換貨，怎麼辦？ A: 若收到商品有漏寄、瑕疵等問題，或需退換貨，請聯繫我們的 Line 或 Facebook 粉絲團，我們將協助處理。\n",
      "Q: 我下錯單了／想取消訂單，怎麼辦？ A: 若想取消或修改訂單，請盡快聯繫我們，可留言於訂單頁或聯絡官方 Line，我們將協助處理。\n",
      "\n",
      "AI 回答： 若需要退換貨，請聯繫我們的 Line 或 Facebook 粉絲團，我們將協助處理。\n"
     ]
    },
    {
     "name": "stdout",
     "output_type": "stream",
     "text": [
      "\n",
      "請輸入問題： 可以退錢嗎\n"
     ]
    },
    {
     "name": "stdout",
     "output_type": "stream",
     "text": [
      "🔍 檢索到的資料： Q: 我收到的商品有瑕疵／有少寄，或想退換貨，怎麼辦？ A: 若收到商品有漏寄、瑕疵等問題，或需退換貨，請聯繫我們的 Line 或 Facebook 粉絲團，我們將協助處理。\n",
      "Q: 我下錯單了／想取消訂單，怎麼辦？ A: 若想取消或修改訂單，請盡快聯繫我們，可留言於訂單頁或聯絡官方 Line，我們將協助處理。\n",
      "\n",
      "AI 回答： 若有相關問題，請聯繫我們的 Line 或 Facebook 粉絲團，我們將協助處理。\n"
     ]
    },
    {
     "name": "stdout",
     "output_type": "stream",
     "text": [
      "\n",
      "請輸入問題： 有冷凍嗎\n"
     ]
    },
    {
     "name": "stdout",
     "output_type": "stream",
     "text": [
      "🔍 檢索到的資料： Q: 請問有實體店面嗎？ A: 目前好味小姐以官網銷售為主。合作店家資訊可以參考「合作店家的頁面資訊」，各店商品銷售狀況不一，前往購買前可以先與店家聯繫是否有現貨喔～\n",
      "Q: 人可以吃嗎？ A: 雖然原料為人食等級，但因為無調味，還是建議給寵物吃喔～\n",
      "\n",
      "AI 回答： 目前好味小姐的商品是以乾燥方式保存，沒有提供冷凍選項。\n"
     ]
    },
    {
     "name": "stdout",
     "output_type": "stream",
     "text": [
      "\n",
      "請輸入問題： 香港可以買嗎\n"
     ]
    },
    {
     "name": "stdout",
     "output_type": "stream",
     "text": [
      "🔍 檢索到的資料： Q: 我在國外可以買嗎？ A: 我們目前僅提供香港配送，運費依重量計算。其他國家因肉類產品入境限制，暫不開放寄送。\n",
      "Q: 請問有實體店面嗎？ A: 目前好味小姐以官網銷售為主。合作店家資訊可以參考「合作店家的頁面資訊」，各店商品銷售狀況不一，前往購買前可以先與店家聯繫是否有現貨喔～\n",
      "\n",
      "AI 回答： 可以，我們目前僅提供香港配送。\n"
     ]
    },
    {
     "name": "stdout",
     "output_type": "stream",
     "text": [
      "\n",
      "請輸入問題： 日本可以送嗎\n"
     ]
    },
    {
     "name": "stdout",
     "output_type": "stream",
     "text": [
      "🔍 檢索到的資料： Q: 生日購物金怎麼發送？ A: 將於生日當月 1 號發送至會員帳號，請確認註冊時已填寫生日，生日購物金需於發放日起 30 天內使用完畢，期限依會員頁面顯示為準。\n",
      "Q: 我在國外可以買嗎？ A: 我們目前僅提供香港配送，運費依重量計算。其他國家因肉類產品入境限制，暫不開放寄送。\n",
      "\n",
      "AI 回答： 暫時不行，因為我們目前僅提供香港配送，其他國家因肉類產品入境限制，暫不開放送貨服務。\n"
     ]
    },
    {
     "name": "stdout",
     "output_type": "stream",
     "text": [
      "\n",
      "請輸入問題： q\n"
     ]
    }
   ],
   "source": [
    "import os\n",
    "import faiss\n",
    "from openai import OpenAI\n",
    "from sentence_transformers import SentenceTransformer\n",
    "import numpy as np\n",
    "\n",
    "# 初始化\n",
    "embed_model = SentenceTransformer(\"shibing624/text2vec-base-chinese\")\n",
    "client = OpenAI(api_key=\"xxx\")\n",
    "\n",
    "# 讀取 FAQ 文字檔（每行一筆）\n",
    "def load_faq_from_txt(file_path):\n",
    "    with open(file_path, 'r', encoding='utf-8') as f:\n",
    "        return [line.strip() for line in f if line.strip()]\n",
    "\n",
    "# 載入 FAQ 文件\n",
    "faq_docs = load_faq_from_txt(\"faq.txt\")\n",
    "\n",
    "# 建立向量索引\n",
    "faq_embeddings = embed_model.encode(faq_docs, convert_to_numpy=True)\n",
    "index = faiss.IndexFlatL2(faq_embeddings.shape[1])\n",
    "index.add(faq_embeddings)\n",
    "\n",
    "# 檢索\n",
    "def retrieve_faq(query, top_k=1):\n",
    "    query_emb = embed_model.encode([query])\n",
    "    _, indices = index.search(query_emb, top_k)\n",
    "    return [faq_docs[i] for i in indices[0]]\n",
    "\n",
    "# LLM 回答生成\n",
    "def generate_answer(query, context):\n",
    "    prompt = f\"請根據以下 FAQ 內容回答問題：\\n\\n{context}\\n\\n問題：{query}\\n\\n回答：\"\n",
    "    response = client.chat.completions.create(\n",
    "        model=\"gpt-3.5-turbo\",\n",
    "        messages=[{\"role\": \"user\", \"content\": prompt}]\n",
    "    )\n",
    "    return response.choices[0].message.content.strip()\n",
    "\n",
    "# 主流程\n",
    "if __name__ == \"__main__\":\n",
    "    print(\"歡迎使用 AI 智慧客服，輸入問題來試試看（輸入 q 離開）\")\n",
    "    while True:\n",
    "        question = input(\"\\n請輸入問題：\")\n",
    "        if question.lower() == 'q':\n",
    "            break\n",
    "        context = \"\\n\".join(retrieve_faq(question, top_k=2))\n",
    "        print(\"🔍 檢索到的資料：\",context)\n",
    "        answer = generate_answer(question, context)\n",
    "        print(\"\\nAI 回答：\", answer)\n"
   ]
  }
 ],
 "metadata": {
  "kernelspec": {
   "display_name": "Python 3 (ipykernel)",
   "language": "python",
   "name": "python3"
  },
  "language_info": {
   "codemirror_mode": {
    "name": "ipython",
    "version": 3
   },
   "file_extension": ".py",
   "mimetype": "text/x-python",
   "name": "python",
   "nbconvert_exporter": "python",
   "pygments_lexer": "ipython3",
   "version": "3.11.9"
  }
 },
 "nbformat": 4,
 "nbformat_minor": 5
}
